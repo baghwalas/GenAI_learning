{
 "cells": [
  {
   "cell_type": "markdown",
   "id": "34589b64-1a75-49b1-8e5e-1ea3cd857111",
   "metadata": {},
   "source": [
    "## Lesson 3: Visualizing Embeddings"
   ]
  },
  {
   "cell_type": "markdown",
   "id": "88adc7f3-52b6-432f-80c4-995605b556eb",
   "metadata": {},
   "source": [
    "#### Project environment setup\n",
    "\n",
    "- Load credentials and relevant Python Libraries"
   ]
  },
  {
   "cell_type": "code",
   "execution_count": 1,
   "id": "1448eaea-2add-477b-bf54-e0c75892f29b",
   "metadata": {},
   "outputs": [],
   "source": [
    "from google.auth.transport.requests import Request\n",
    "from google.oauth2.service_account import Credentials\n",
    "# Path to your service account key file\n",
    "key_path = \"C:\\\\Users\\\\sbagh\\\\Downloads\\\\automatic-honor-431919-e0-f081e3267592.json\" #Path to the json key associated with your service account from google cloud\n",
    "# Create credentials object\n",
    "\n",
    "credentials = Credentials.from_service_account_file(\n",
    "    key_path,\n",
    "    scopes=['https://www.googleapis.com/auth/cloud-platform'])\n",
    "\n",
    "if credentials.expired:\n",
    "    credentials.refresh(Request())\n",
    "\n"
   ]
  },
  {
   "cell_type": "code",
   "execution_count": 2,
   "id": "65d90081-3c82-4c00-a74f-4551df265372",
   "metadata": {},
   "outputs": [],
   "source": [
    "PROJECT_ID = 'automatic-honor-431919-e0'\n",
    "REGION = 'us-central1'\n",
    "import vertexai\n",
    "\n",
    "# initialize vertex\n",
    "vertexai.init(project = PROJECT_ID, location = REGION, credentials = credentials)"
   ]
  },
  {
   "cell_type": "markdown",
   "id": "5ba3a1c7-2d3a-41de-91b9-d3780801742b",
   "metadata": {},
   "source": [
    "#### Enter project details"
   ]
  },
  {
   "cell_type": "markdown",
   "id": "dea550bf-d3fb-4ae2-80da-4f3d9179a9b9",
   "metadata": {},
   "source": [
    "## Embeddings capture meaning"
   ]
  },
  {
   "cell_type": "code",
   "execution_count": 3,
   "id": "763e2623-ca37-43ed-90d5-d0e52cc6fba5",
   "metadata": {
    "height": 336
   },
   "outputs": [],
   "source": [
    "in_1 = \"Missing flamingo discovered at swimming pool\"\n",
    "\n",
    "in_2 = \"Sea otter spotted on surfboard by beach\"\n",
    "\n",
    "in_3 = \"Baby panda enjoys boat ride\"\n",
    "\n",
    "\n",
    "in_4 = \"Breakfast themed food truck beloved by all!\"\n",
    "\n",
    "in_5 = \"New curry restaurant aims to please!\"\n",
    "\n",
    "\n",
    "in_6 = \"Python developers are wonderful people\"\n",
    "\n",
    "in_7 = \"TypeScript, C++ or Java? All are great!\" \n",
    "\n",
    "\n",
    "input_text_lst_news = [in_1, in_2, in_3, in_4, in_5, in_6, in_7]"
   ]
  },
  {
   "cell_type": "code",
   "execution_count": 4,
   "id": "726ce640-0505-4d01-9620-94502af9eb70",
   "metadata": {
    "height": 98
   },
   "outputs": [],
   "source": [
    "import numpy as np\n",
    "from vertexai.language_models import TextEmbeddingModel\n",
    "\n",
    "embedding_model = TextEmbeddingModel.from_pretrained(\n",
    "    \"textembedding-gecko@001\")"
   ]
  },
  {
   "cell_type": "markdown",
   "id": "b270e703-62fd-47cf-893e-3fe7a1282f29",
   "metadata": {},
   "source": [
    "- Get embeddings for all pieces of text.\n",
    "- Store them in a 2D NumPy array (one row for each embedding)."
   ]
  },
  {
   "cell_type": "code",
   "execution_count": 5,
   "id": "30dbf38d-5f88-4ee0-804c-87099b5d6693",
   "metadata": {
    "height": 132
   },
   "outputs": [],
   "source": [
    "embeddings = []\n",
    "for input_text in input_text_lst_news:\n",
    "    emb = embedding_model.get_embeddings(\n",
    "        [input_text])[0].values\n",
    "    embeddings.append(emb)\n",
    "    \n",
    "embeddings_array = np.array(embeddings) "
   ]
  },
  {
   "cell_type": "code",
   "execution_count": 6,
   "id": "9129943c-d624-4ada-9dbf-8277fc12554d",
   "metadata": {
    "height": 47
   },
   "outputs": [
    {
     "name": "stdout",
     "output_type": "stream",
     "text": [
      "Shape: (7, 768)\n",
      "[[ 0.04559246 -0.01472285 -0.02949955 ...  0.04057328 -0.03193641\n",
      "  -0.01936668]\n",
      " [-0.01995482  0.00037652  0.0116593  ...  0.02617216 -0.03978169\n",
      "  -0.02036468]\n",
      " [ 0.01030084  0.02219611  0.02433357 ...  0.03538613 -0.0273955\n",
      "  -0.04193578]\n",
      " ...\n",
      " [-0.0263201  -0.01767797 -0.01261324 ... -0.01372547  0.00060259\n",
      "   0.01581882]\n",
      " [-0.00561961 -0.02237099 -0.03271009 ... -0.02777804 -0.03388645\n",
      "  -0.01553735]\n",
      " [ 0.00867064 -0.0131854   0.04283332 ... -0.04224638  0.01800203\n",
      "   0.01088098]]\n"
     ]
    }
   ],
   "source": [
    "print(\"Shape: \" + str(embeddings_array.shape))\n",
    "print(embeddings_array)"
   ]
  },
  {
   "cell_type": "markdown",
   "id": "deffaf3d-f57e-4b14-a391-620194c5d354",
   "metadata": {},
   "source": [
    "#### Reduce embeddings from 768 to 2 dimensions for visualization\n",
    "- We'll use principal component analysis (PCA).\n",
    "- You can learn more about PCA in [this video](https://www.coursera.org/learn/unsupervised-learning-recommenders-reinforcement-learning/lecture/73zWO/reducing-the-number-of-features-optional) from the Machine Learning Specialization. "
   ]
  },
  {
   "cell_type": "code",
   "execution_count": 7,
   "id": "a8fa6ec2-fa3b-47da-831a-1892dd8560dc",
   "metadata": {
    "height": 115
   },
   "outputs": [],
   "source": [
    "from sklearn.decomposition import PCA\n",
    "\n",
    "# Perform PCA for 2D visualization\n",
    "PCA_model = PCA(n_components = 2)\n",
    "PCA_model.fit(embeddings_array)\n",
    "new_values = PCA_model.transform(embeddings_array)"
   ]
  },
  {
   "cell_type": "code",
   "execution_count": 8,
   "id": "8743daf4-31f3-467d-be38-fc5984857682",
   "metadata": {
    "height": 47
   },
   "outputs": [
    {
     "name": "stdout",
     "output_type": "stream",
     "text": [
      "Shape: (7, 2)\n",
      "[[-0.40980753 -0.10084478]\n",
      " [-0.39561909 -0.18401444]\n",
      " [-0.29958523  0.07514691]\n",
      " [ 0.16077688  0.32879395]\n",
      " [ 0.1893873   0.48556638]\n",
      " [ 0.31516547 -0.23624716]\n",
      " [ 0.4396822  -0.36840086]]\n"
     ]
    }
   ],
   "source": [
    "print(\"Shape: \" + str(new_values.shape))\n",
    "print(new_values)"
   ]
  },
  {
   "cell_type": "code",
   "execution_count": 9,
   "id": "82b26506-1c92-4854-923b-9be9882b1bc3",
   "metadata": {},
   "outputs": [],
   "source": [
    "def plot_2D(x_values, y_values, labels):\n",
    "\n",
    "    # Create scatter plot\n",
    "    fig, ax = plt.subplots()\n",
    "    scatter = ax.scatter(x_values, \n",
    "                         y_values, \n",
    "                         alpha = 0.5, \n",
    "                         edgecolors='k',\n",
    "                         s = 40) \n",
    "\n",
    "    # Create a mplcursors object to manage the data point interaction\n",
    "    cursor = mplcursors.cursor(scatter, hover=True)\n",
    "\n",
    "    #aes\n",
    "    ax.set_title('Embedding visualization in 2D')  # Add a title\n",
    "    ax.set_xlabel('X_1')  # Add x-axis label\n",
    "    ax.set_ylabel('X_2')  # Add y-axis label\n",
    "\n",
    "    # Define how each annotation should look\n",
    "    @cursor.connect(\"add\")\n",
    "    def on_add(sel):\n",
    "        sel.annotation.set_text(labels[sel.target.index])\n",
    "        sel.annotation.get_bbox_patch().set(facecolor='white', alpha=0.5) # Set annotation's background color\n",
    "        sel.annotation.set_fontsize(12) \n",
    "\n",
    "    plt.show()"
   ]
  },
  {
   "cell_type": "code",
   "execution_count": 13,
   "id": "9328db18-bb41-4405-8139-b62f69850a2a",
   "metadata": {
    "height": 115
   },
   "outputs": [
    {
     "data": {
      "application/vnd.jupyter.widget-view+json": {
       "model_id": "c5fd63b7061a4a68b960cdeca05dbd2a",
       "version_major": 2,
       "version_minor": 0
      },
      "image/png": "[encoded data removed]",
      "text/html": [
       "\n",
       "            <div style=\"display: inline-block;\">\n",
       "                <div class=\"jupyter-widgets widget-label\" style=\"text-align: center;\">\n",
       "                    Figure\n",
       "                </div>\n",
       "                <img src='data:image/png;base64,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' width=640.0/>\n",
       "            </div>\n",
       "        "
      ],
      "text/plain": [
       "Canvas(toolbar=Toolbar(toolitems=[('Home', 'Reset original view', 'home', 'home'), ('Back', 'Back to previous …"
      ]
     },
     "metadata": {},
     "output_type": "display_data"
    }
   ],
   "source": [
    "import matplotlib.pyplot as plt\n",
    "import mplcursors\n",
    "%matplotlib ipympl\n",
    "\n",
    "from utils import plot_2D\n",
    "plot_2D(new_values[:,0], new_values[:,1], input_text_lst_news)"
   ]
  },
  {
   "cell_type": "markdown",
   "id": "20c789c6-7f12-41ab-96a0-15aea8082a1a",
   "metadata": {},
   "source": [
    "#### Embeddings and Similarity\n",
    "- Plot a heat map to compare the embeddings of sentences that are similar and sentences that are dissimilar."
   ]
  },
  {
   "cell_type": "code",
   "execution_count": null,
   "id": "99dcb75a-abd7-4a45-a78b-3800fb4cf559",
   "metadata": {
    "height": 234
   },
   "outputs": [],
   "source": [
    "in_1 = \"\"\"He couldn’t desert \n",
    "          his post at the power plant.\"\"\"\n",
    "\n",
    "in_2 = \"\"\"The power plant needed \n",
    "          him at the time.\"\"\"\n",
    "\n",
    "in_3 = \"\"\"Cacti are able to \n",
    "          withstand dry environments.\"\"\" \n",
    "\n",
    "in_4 = \"\"\"Desert plants can \n",
    "          survive droughts.\"\"\" \n",
    "\n",
    "input_text_lst_sim = [in_1, in_2, in_3, in_4]"
   ]
  },
  {
   "cell_type": "code",
   "execution_count": null,
   "id": "f86c0c3d-87d9-4601-bc03-dd998bf12166",
   "metadata": {
    "height": 132
   },
   "outputs": [],
   "source": [
    "embeddings = []\n",
    "for input_text in input_text_lst_sim:\n",
    "    emb = embedding_model.get_embeddings([input_text])[0].values\n",
    "    embeddings.append(emb)\n",
    "    \n",
    "embeddings_array = np.array(embeddings) "
   ]
  },
  {
   "cell_type": "code",
   "execution_count": 1,
   "id": "e5057cff-18dc-42a8-918a-86e54c2e7c0f",
   "metadata": {
    "height": 132
   },
   "outputs": [
    {
     "ename": "NameError",
     "evalue": "name 'input_text_lst_sim' is not defined",
     "output_type": "error",
     "traceback": [
      "\u001b[1;31m---------------------------------------------------------------------------\u001b[0m",
      "\u001b[1;31mNameError\u001b[0m                                 Traceback (most recent call last)",
      "Cell \u001b[1;32mIn[1], line 3\u001b[0m\n\u001b[0;32m      1\u001b[0m \u001b[38;5;28;01mfrom\u001b[39;00m \u001b[38;5;21;01mutils\u001b[39;00m \u001b[38;5;28;01mimport\u001b[39;00m plot_heatmap\n\u001b[1;32m----> 3\u001b[0m y_labels \u001b[38;5;241m=\u001b[39m \u001b[43minput_text_lst_sim\u001b[49m\n\u001b[0;32m      5\u001b[0m \u001b[38;5;66;03m# Plot the heatmap\u001b[39;00m\n\u001b[0;32m      6\u001b[0m plot_heatmap(embeddings_array, y_labels \u001b[38;5;241m=\u001b[39m y_labels, title \u001b[38;5;241m=\u001b[39m \u001b[38;5;124m\"\u001b[39m\u001b[38;5;124mEmbeddings Heatmap\u001b[39m\u001b[38;5;124m\"\u001b[39m)\n",
      "\u001b[1;31mNameError\u001b[0m: name 'input_text_lst_sim' is not defined"
     ]
    }
   ],
   "source": [
    "from utils import plot_heatmap\n",
    "\n",
    "y_labels = input_text_lst_sim\n",
    "\n",
    "# Plot the heatmap\n",
    "plot_heatmap(embeddings_array, y_labels = y_labels, title = \"Embeddings Heatmap\")"
   ]
  },
  {
   "cell_type": "markdown",
   "id": "b984ee27-fa85-4839-b799-748b9d82107e",
   "metadata": {},
   "source": [
    "Note: the heat map won't show everything because there are 768 columns to show.  To adjust the heat map with your mouse:\n",
    "- Hover your mouse over the heat map.  Buttons will appear on the left of the heatmap.  Click on the button that has a vertical and horizontal double arrow (they look like axes).\n",
    "- Left click and drag to move the heat map left and right.\n",
    "- Right click and drag up to zoom in.\n",
    "- Right click and drag down to zoom out."
   ]
  },
  {
   "cell_type": "markdown",
   "id": "e075dc41-18e8-40e1-8435-d0f972d0c8ab",
   "metadata": {},
   "source": [
    "#### Compute cosine similarity\n",
    "- The `cosine_similarity` function expects a 2D array, which is why we'll wrap each embedding list inside another list.\n",
    "- You can verify that sentence 1 and 2 have a higher similarity compared to sentence 1 and 4, even though sentence 1 and 4 both have the words \"desert\" and \"plant\"."
   ]
  },
  {
   "cell_type": "code",
   "execution_count": null,
   "id": "0dff11a0-ae2b-4898-b565-3be7439a27b0",
   "metadata": {
    "height": 30
   },
   "outputs": [],
   "source": [
    "from sklearn.metrics.pairwise import cosine_similarity"
   ]
  },
  {
   "cell_type": "code",
   "execution_count": null,
   "id": "05e99af9-2bf6-4ba5-ad72-809a12c6fca1",
   "metadata": {
    "height": 64
   },
   "outputs": [],
   "source": [
    "def compare(embeddings,idx1,idx2):\n",
    "    return cosine_similarity([embeddings[idx1]],[embeddings[idx2]])"
   ]
  },
  {
   "cell_type": "code",
   "execution_count": null,
   "id": "8842d87c-1abf-4908-9ff7-ab8b3200532e",
   "metadata": {
    "height": 64
   },
   "outputs": [],
   "source": [
    "print(in_1)\n",
    "print(in_2)\n",
    "print(compare(embeddings,0,1))"
   ]
  },
  {
   "cell_type": "code",
   "execution_count": null,
   "id": "35860466-0090-4c86-b39a-baf6926b613c",
   "metadata": {
    "height": 64
   },
   "outputs": [],
   "source": [
    "print(in_1)\n",
    "print(in_4)\n",
    "print(compare(embeddings,0,3))"
   ]
  },
  {
   "cell_type": "markdown",
   "id": "d3f2115e-785b-45a6-acb0-431e015420d5",
   "metadata": {},
   "source": []
  }
 ],
 "metadata": {
  "kernelspec": {
   "display_name": "Python 3 (ipykernel)",
   "language": "python",
   "name": "python3"
  },
  "language_info": {
   "codemirror_mode": {
    "name": "ipython",
    "version": 3
   },
   "file_extension": ".py",
   "mimetype": "text/x-python",
   "name": "python",
   "nbconvert_exporter": "python",
   "pygments_lexer": "ipython3",
   "version": "3.9.0"
  }
 },
 "nbformat": 4,
 "nbformat_minor": 5
}
